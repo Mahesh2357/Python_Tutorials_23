{
 "cells": [
  {
   "cell_type": "code",
   "execution_count": null,
   "metadata": {},
   "outputs": [],
   "source": []
  },
  {
   "cell_type": "code",
   "execution_count": 37,
   "metadata": {},
   "outputs": [],
   "source": [
    "import xlsxwriter"
   ]
  },
  {
   "cell_type": "code",
   "execution_count": 38,
   "metadata": {},
   "outputs": [],
   "source": [
    "workbook = xlsxwriter.Workbook('employee.xlsx')\n",
    "worksheet = workbook.add_worksheet('My sheet')"
   ]
  },
  {
   "cell_type": "markdown",
   "metadata": {},
   "source": [
    "worksheet.write('A1', 'Hello')\n",
    "worksheet.write('A2', 'Welcome')\n",
    "worksheet.write('A3', 'xlsx')\n",
    "worksheet.write('A4', 'module')\n",
    "worksheet.write('A5', 'python')\n",
    "workbook.close()"
   ]
  },
  {
   "cell_type": "markdown",
   "metadata": {},
   "source": [
    "r = c= 0\n",
    "l = ['Gana', 'Vikas', 'Anant']\n",
    "for i in l:\n",
    "    worksheet.write(r, c, i)\n",
    "    r += 1\n",
    "    workbook.close()"
   ]
  },
  {
   "cell_type": "code",
   "execution_count": 40,
   "metadata": {},
   "outputs": [],
   "source": [
    "r=c=0\n",
    "l = [['Gana', 3000 ],['Vikas',5600], ['Anant', 7000]]\n",
    "for i in l:\n",
    "    worksheet.write(r, c, i[0])\n",
    "    c += 1\n",
    "    worksheet.write(r, c, i[1])\n",
    "    r += 1\n",
    "    c = 0\n",
    "    workbook.close()"
   ]
  },
  {
   "cell_type": "code",
   "execution_count": null,
   "metadata": {},
   "outputs": [],
   "source": []
  }
 ],
 "metadata": {
  "kernelspec": {
   "display_name": "Python 3",
   "language": "python",
   "name": "python3"
  },
  "language_info": {
   "codemirror_mode": {
    "name": "ipython",
    "version": 3
   },
   "file_extension": ".py",
   "mimetype": "text/x-python",
   "name": "python",
   "nbconvert_exporter": "python",
   "pygments_lexer": "ipython3",
   "version": "3.7.4"
  }
 },
 "nbformat": 4,
 "nbformat_minor": 2
}
