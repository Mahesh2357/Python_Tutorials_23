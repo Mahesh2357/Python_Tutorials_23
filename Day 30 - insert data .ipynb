{
 "cells": [
  {
   "cell_type": "code",
   "execution_count": 4,
   "metadata": {},
   "outputs": [],
   "source": [
    "import sqlite3"
   ]
  },
  {
   "cell_type": "code",
   "execution_count": 10,
   "metadata": {},
   "outputs": [
    {
     "name": "stdout",
     "output_type": "stream",
     "text": [
      "Enter Name: DFGH\n",
      "Error: 'str' object is not callable\n"
     ]
    }
   ],
   "source": [
    "conn = sqlite3.connect('mydata.db')\n",
    "cursor = conn.cursor()\n",
    "name = input('Enter Name: ')\n",
    "try:\n",
    "    cursor.execute('INSERT INTO employee (name) VALUES (?)' (name, ))\n",
    "    conn.commit()                                                   #data gets inserted\n",
    "    print(\"%d record inserted\"%(curser,rowcount))\n",
    "except Exception as e:\n",
    "    print('Error:', e)\n",
    "finally:\n",
    "    conn.close()"
   ]
  },
  {
   "cell_type": "code",
   "execution_count": null,
   "metadata": {},
   "outputs": [],
   "source": []
  },
  {
   "cell_type": "code",
   "execution_count": null,
   "metadata": {},
   "outputs": [],
   "source": []
  }
 ],
 "metadata": {
  "kernelspec": {
   "display_name": "Python 3",
   "language": "python",
   "name": "python3"
  },
  "language_info": {
   "codemirror_mode": {
    "name": "ipython",
    "version": 3
   },
   "file_extension": ".py",
   "mimetype": "text/x-python",
   "name": "python",
   "nbconvert_exporter": "python",
   "pygments_lexer": "ipython3",
   "version": "3.7.4"
  }
 },
 "nbformat": 4,
 "nbformat_minor": 2
}
